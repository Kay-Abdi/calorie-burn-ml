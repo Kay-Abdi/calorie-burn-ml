{
 "cells": [
  {
   "cell_type": "code",
   "execution_count": 1,
   "id": "8e587080-3257-41ea-95bc-3b6793a6c476",
   "metadata": {},
   "outputs": [],
   "source": [
    "import pandas as pd\n",
    "import seaborn as sns\n",
    "import matplotlib.pyplot as plt\n",
    "from sklearn import linear_model as lm\n",
    "import numpy as np\n",
    "\n"
   ]
  },
  {
   "cell_type": "code",
   "execution_count": 2,
   "id": "2044cfb7-b10f-45f2-af5b-230f1fe867e9",
   "metadata": {},
   "outputs": [],
   "source": [
    "df= pd.read_csv('df_merged_final.csv')\n",
    "fit= pd.DataFrame(df)\n",
    "fit[\"Exercise_type_raw\"]=fit[\"Exercise_type_raw\"].astype(str)\n",
    "\n"
   ]
  },
  {
   "cell_type": "markdown",
   "id": "cc65cb43-2182-430d-a11c-cacf53275350",
   "metadata": {},
   "source": [
    "I loaded my dataset from df_merged_final.csv and started exploring it using a DataFrame. Since the Exercise_type column contains multiple comma-separated exercises, I created a cleaned version of it called Exercise_type_raw by converting the values to strings, which will help with text processing later.\n",
    "\n",
    "I understand this might impact my analysis or findings later on, but I’ll address any issues as they come up during the cleaning process."
   ]
  },
  {
   "cell_type": "code",
   "execution_count": 3,
   "id": "3b5f0817-02c2-4ea9-942b-c0e9c1ff2350",
   "metadata": {},
   "outputs": [
    {
     "name": "stdout",
     "output_type": "stream",
     "text": [
      "0        Cycling, 16-19 mph, very fast, racing\n",
      "1                    Stationary cycling, light\n",
      "2                      Watering lawn or garden\n",
      "3                                   Unicycling\n",
      "4               Stationary cycling, very light\n",
      "                         ...                  \n",
      "14995                          Mild stretching\n",
      "14996                  Watering lawn or garden\n",
      "14997                          Walking 4.5 mph\n",
      "14998                  Watering lawn or garden\n",
      "14999              Cycling, 10-11.9 mph, light\n",
      "Name: Exercise_type_raw, Length: 15000, dtype: object\n"
     ]
    }
   ],
   "source": [
    "Excercise_type_col = fit['Exercise_type_raw']\n",
    "print(Excercise_type_col)\n"
   ]
  },
  {
   "cell_type": "code",
   "execution_count": 4,
   "id": "67654d3c-3dfe-46c7-86ea-3875ea567622",
   "metadata": {},
   "outputs": [
    {
     "name": "stdout",
     "output_type": "stream",
     "text": [
      "0\n"
     ]
    }
   ],
   "source": [
    "fit_missing_val = fit[fit.isnull().any(axis=1)]\n",
    "print(len(fit_missing_val))"
   ]
  },
  {
   "cell_type": "code",
   "execution_count": 5,
   "id": "a8ebec5f-6903-489b-8425-bcbc3ac5c164",
   "metadata": {},
   "outputs": [
    {
     "name": "stdout",
     "output_type": "stream",
     "text": [
      "0\n"
     ]
    }
   ],
   "source": [
    "fit_duplic_rows = fit.duplicated()\n",
    "print(fit_duplic_rows.sum())"
   ]
  },
  {
   "cell_type": "code",
   "execution_count": 6,
   "id": "1df42908-a9c7-43d3-afd7-d0acba54f1ca",
   "metadata": {},
   "outputs": [
    {
     "data": {
      "text/html": [
       "<div>\n",
       "<style scoped>\n",
       "    .dataframe tbody tr th:only-of-type {\n",
       "        vertical-align: middle;\n",
       "    }\n",
       "\n",
       "    .dataframe tbody tr th {\n",
       "        vertical-align: top;\n",
       "    }\n",
       "\n",
       "    .dataframe thead th {\n",
       "        text-align: right;\n",
       "    }\n",
       "</style>\n",
       "<table border=\"1\" class=\"dataframe\">\n",
       "  <thead>\n",
       "    <tr style=\"text-align: right;\">\n",
       "      <th></th>\n",
       "      <th>Unnamed: 0</th>\n",
       "      <th>User_ID</th>\n",
       "      <th>Gender</th>\n",
       "      <th>Age</th>\n",
       "      <th>Height</th>\n",
       "      <th>Weight</th>\n",
       "      <th>Duration</th>\n",
       "      <th>Heart_Rate</th>\n",
       "      <th>Body_Temp</th>\n",
       "      <th>Calories</th>\n",
       "      <th>...</th>\n",
       "      <th>HeadCircumference</th>\n",
       "      <th>ShoulderWidth</th>\n",
       "      <th>ChestWidth</th>\n",
       "      <th>Belly</th>\n",
       "      <th>Waist</th>\n",
       "      <th>Hips</th>\n",
       "      <th>ArmLength</th>\n",
       "      <th>ShoulderToWaist</th>\n",
       "      <th>WaistToKnee</th>\n",
       "      <th>LegLength</th>\n",
       "    </tr>\n",
       "  </thead>\n",
       "  <tbody>\n",
       "    <tr>\n",
       "      <th>0</th>\n",
       "      <td>0</td>\n",
       "      <td>14733363</td>\n",
       "      <td>male</td>\n",
       "      <td>68</td>\n",
       "      <td>190.0</td>\n",
       "      <td>94.0</td>\n",
       "      <td>29.0</td>\n",
       "      <td>105.0</td>\n",
       "      <td>40.8</td>\n",
       "      <td>231.0</td>\n",
       "      <td>...</td>\n",
       "      <td>55.88</td>\n",
       "      <td>45.72</td>\n",
       "      <td>40.64</td>\n",
       "      <td>91.44</td>\n",
       "      <td>99.06</td>\n",
       "      <td>104.14</td>\n",
       "      <td>60.96</td>\n",
       "      <td>78.74</td>\n",
       "      <td>63.50</td>\n",
       "      <td>99.06</td>\n",
       "    </tr>\n",
       "    <tr>\n",
       "      <th>1</th>\n",
       "      <td>1</td>\n",
       "      <td>14861698</td>\n",
       "      <td>female</td>\n",
       "      <td>20</td>\n",
       "      <td>166.0</td>\n",
       "      <td>60.0</td>\n",
       "      <td>14.0</td>\n",
       "      <td>94.0</td>\n",
       "      <td>40.3</td>\n",
       "      <td>66.0</td>\n",
       "      <td>...</td>\n",
       "      <td>66.04</td>\n",
       "      <td>45.72</td>\n",
       "      <td>76.20</td>\n",
       "      <td>63.50</td>\n",
       "      <td>66.04</td>\n",
       "      <td>73.66</td>\n",
       "      <td>71.12</td>\n",
       "      <td>66.04</td>\n",
       "      <td>71.12</td>\n",
       "      <td>104.14</td>\n",
       "    </tr>\n",
       "    <tr>\n",
       "      <th>2</th>\n",
       "      <td>2</td>\n",
       "      <td>11179863</td>\n",
       "      <td>male</td>\n",
       "      <td>69</td>\n",
       "      <td>179.0</td>\n",
       "      <td>79.0</td>\n",
       "      <td>5.0</td>\n",
       "      <td>88.0</td>\n",
       "      <td>38.7</td>\n",
       "      <td>26.0</td>\n",
       "      <td>...</td>\n",
       "      <td>55.88</td>\n",
       "      <td>45.72</td>\n",
       "      <td>40.64</td>\n",
       "      <td>91.44</td>\n",
       "      <td>99.06</td>\n",
       "      <td>104.14</td>\n",
       "      <td>60.96</td>\n",
       "      <td>78.74</td>\n",
       "      <td>63.50</td>\n",
       "      <td>99.06</td>\n",
       "    </tr>\n",
       "    <tr>\n",
       "      <th>3</th>\n",
       "      <td>3</td>\n",
       "      <td>16180408</td>\n",
       "      <td>female</td>\n",
       "      <td>34</td>\n",
       "      <td>179.0</td>\n",
       "      <td>71.0</td>\n",
       "      <td>13.0</td>\n",
       "      <td>100.0</td>\n",
       "      <td>40.5</td>\n",
       "      <td>71.0</td>\n",
       "      <td>...</td>\n",
       "      <td>63.50</td>\n",
       "      <td>40.64</td>\n",
       "      <td>30.48</td>\n",
       "      <td>33.02</td>\n",
       "      <td>50.80</td>\n",
       "      <td>33.02</td>\n",
       "      <td>53.34</td>\n",
       "      <td>43.18</td>\n",
       "      <td>50.80</td>\n",
       "      <td>73.66</td>\n",
       "    </tr>\n",
       "    <tr>\n",
       "      <th>4</th>\n",
       "      <td>4</td>\n",
       "      <td>17771927</td>\n",
       "      <td>female</td>\n",
       "      <td>27</td>\n",
       "      <td>154.0</td>\n",
       "      <td>58.0</td>\n",
       "      <td>10.0</td>\n",
       "      <td>81.0</td>\n",
       "      <td>39.8</td>\n",
       "      <td>35.0</td>\n",
       "      <td>...</td>\n",
       "      <td>55.88</td>\n",
       "      <td>43.18</td>\n",
       "      <td>43.18</td>\n",
       "      <td>30.48</td>\n",
       "      <td>33.02</td>\n",
       "      <td>71.12</td>\n",
       "      <td>45.72</td>\n",
       "      <td>48.26</td>\n",
       "      <td>43.18</td>\n",
       "      <td>68.58</td>\n",
       "    </tr>\n",
       "    <tr>\n",
       "      <th>5</th>\n",
       "      <td>5</td>\n",
       "      <td>15130815</td>\n",
       "      <td>female</td>\n",
       "      <td>36</td>\n",
       "      <td>151.0</td>\n",
       "      <td>50.0</td>\n",
       "      <td>23.0</td>\n",
       "      <td>96.0</td>\n",
       "      <td>40.7</td>\n",
       "      <td>123.0</td>\n",
       "      <td>...</td>\n",
       "      <td>53.34</td>\n",
       "      <td>48.26</td>\n",
       "      <td>43.18</td>\n",
       "      <td>43.18</td>\n",
       "      <td>50.80</td>\n",
       "      <td>53.34</td>\n",
       "      <td>50.80</td>\n",
       "      <td>50.80</td>\n",
       "      <td>45.72</td>\n",
       "      <td>55.88</td>\n",
       "    </tr>\n",
       "    <tr>\n",
       "      <th>6</th>\n",
       "      <td>6</td>\n",
       "      <td>19602372</td>\n",
       "      <td>female</td>\n",
       "      <td>33</td>\n",
       "      <td>158.0</td>\n",
       "      <td>56.0</td>\n",
       "      <td>22.0</td>\n",
       "      <td>95.0</td>\n",
       "      <td>40.5</td>\n",
       "      <td>112.0</td>\n",
       "      <td>...</td>\n",
       "      <td>55.88</td>\n",
       "      <td>45.72</td>\n",
       "      <td>40.64</td>\n",
       "      <td>114.30</td>\n",
       "      <td>119.38</td>\n",
       "      <td>157.48</td>\n",
       "      <td>48.26</td>\n",
       "      <td>53.34</td>\n",
       "      <td>43.18</td>\n",
       "      <td>83.82</td>\n",
       "    </tr>\n",
       "    <tr>\n",
       "      <th>7</th>\n",
       "      <td>7</td>\n",
       "      <td>11117088</td>\n",
       "      <td>male</td>\n",
       "      <td>41</td>\n",
       "      <td>175.0</td>\n",
       "      <td>85.0</td>\n",
       "      <td>25.0</td>\n",
       "      <td>100.0</td>\n",
       "      <td>40.7</td>\n",
       "      <td>143.0</td>\n",
       "      <td>...</td>\n",
       "      <td>63.50</td>\n",
       "      <td>48.26</td>\n",
       "      <td>43.18</td>\n",
       "      <td>106.68</td>\n",
       "      <td>111.76</td>\n",
       "      <td>111.76</td>\n",
       "      <td>60.96</td>\n",
       "      <td>66.04</td>\n",
       "      <td>68.58</td>\n",
       "      <td>101.60</td>\n",
       "    </tr>\n",
       "    <tr>\n",
       "      <th>8</th>\n",
       "      <td>8</td>\n",
       "      <td>12132339</td>\n",
       "      <td>male</td>\n",
       "      <td>60</td>\n",
       "      <td>186.0</td>\n",
       "      <td>94.0</td>\n",
       "      <td>21.0</td>\n",
       "      <td>97.0</td>\n",
       "      <td>40.4</td>\n",
       "      <td>134.0</td>\n",
       "      <td>...</td>\n",
       "      <td>60.96</td>\n",
       "      <td>53.34</td>\n",
       "      <td>50.80</td>\n",
       "      <td>119.38</td>\n",
       "      <td>114.30</td>\n",
       "      <td>111.76</td>\n",
       "      <td>58.42</td>\n",
       "      <td>76.20</td>\n",
       "      <td>58.42</td>\n",
       "      <td>96.52</td>\n",
       "    </tr>\n",
       "    <tr>\n",
       "      <th>9</th>\n",
       "      <td>9</td>\n",
       "      <td>17964668</td>\n",
       "      <td>female</td>\n",
       "      <td>26</td>\n",
       "      <td>146.0</td>\n",
       "      <td>51.0</td>\n",
       "      <td>16.0</td>\n",
       "      <td>90.0</td>\n",
       "      <td>40.2</td>\n",
       "      <td>72.0</td>\n",
       "      <td>...</td>\n",
       "      <td>45.72</td>\n",
       "      <td>38.10</td>\n",
       "      <td>48.26</td>\n",
       "      <td>43.18</td>\n",
       "      <td>58.42</td>\n",
       "      <td>68.58</td>\n",
       "      <td>48.26</td>\n",
       "      <td>48.26</td>\n",
       "      <td>48.26</td>\n",
       "      <td>48.26</td>\n",
       "    </tr>\n",
       "  </tbody>\n",
       "</table>\n",
       "<p>10 rows × 21 columns</p>\n",
       "</div>"
      ],
      "text/plain": [
       "   Unnamed: 0   User_ID  Gender  Age  Height  Weight  Duration  Heart_Rate  \\\n",
       "0           0  14733363    male   68   190.0    94.0      29.0       105.0   \n",
       "1           1  14861698  female   20   166.0    60.0      14.0        94.0   \n",
       "2           2  11179863    male   69   179.0    79.0       5.0        88.0   \n",
       "3           3  16180408  female   34   179.0    71.0      13.0       100.0   \n",
       "4           4  17771927  female   27   154.0    58.0      10.0        81.0   \n",
       "5           5  15130815  female   36   151.0    50.0      23.0        96.0   \n",
       "6           6  19602372  female   33   158.0    56.0      22.0        95.0   \n",
       "7           7  11117088    male   41   175.0    85.0      25.0       100.0   \n",
       "8           8  12132339    male   60   186.0    94.0      21.0        97.0   \n",
       "9           9  17964668  female   26   146.0    51.0      16.0        90.0   \n",
       "\n",
       "   Body_Temp  Calories  ... HeadCircumference  ShoulderWidth  ChestWidth  \\\n",
       "0       40.8     231.0  ...             55.88          45.72       40.64   \n",
       "1       40.3      66.0  ...             66.04          45.72       76.20   \n",
       "2       38.7      26.0  ...             55.88          45.72       40.64   \n",
       "3       40.5      71.0  ...             63.50          40.64       30.48   \n",
       "4       39.8      35.0  ...             55.88          43.18       43.18   \n",
       "5       40.7     123.0  ...             53.34          48.26       43.18   \n",
       "6       40.5     112.0  ...             55.88          45.72       40.64   \n",
       "7       40.7     143.0  ...             63.50          48.26       43.18   \n",
       "8       40.4     134.0  ...             60.96          53.34       50.80   \n",
       "9       40.2      72.0  ...             45.72          38.10       48.26   \n",
       "\n",
       "    Belly   Waist    Hips  ArmLength  ShoulderToWaist  WaistToKnee  LegLength  \n",
       "0   91.44   99.06  104.14      60.96            78.74        63.50      99.06  \n",
       "1   63.50   66.04   73.66      71.12            66.04        71.12     104.14  \n",
       "2   91.44   99.06  104.14      60.96            78.74        63.50      99.06  \n",
       "3   33.02   50.80   33.02      53.34            43.18        50.80      73.66  \n",
       "4   30.48   33.02   71.12      45.72            48.26        43.18      68.58  \n",
       "5   43.18   50.80   53.34      50.80            50.80        45.72      55.88  \n",
       "6  114.30  119.38  157.48      48.26            53.34        43.18      83.82  \n",
       "7  106.68  111.76  111.76      60.96            66.04        68.58     101.60  \n",
       "8  119.38  114.30  111.76      58.42            76.20        58.42      96.52  \n",
       "9   43.18   58.42   68.58      48.26            48.26        48.26      48.26  \n",
       "\n",
       "[10 rows x 21 columns]"
      ]
     },
     "execution_count": 6,
     "metadata": {},
     "output_type": "execute_result"
    }
   ],
   "source": [
    "fit.head(10)"
   ]
  },
  {
   "cell_type": "code",
   "execution_count": 7,
   "id": "2c922b7e-f3b0-48ed-bcaf-485c2d07ed51",
   "metadata": {},
   "outputs": [
    {
     "data": {
      "text/html": [
       "<div>\n",
       "<style scoped>\n",
       "    .dataframe tbody tr th:only-of-type {\n",
       "        vertical-align: middle;\n",
       "    }\n",
       "\n",
       "    .dataframe tbody tr th {\n",
       "        vertical-align: top;\n",
       "    }\n",
       "\n",
       "    .dataframe thead th {\n",
       "        text-align: right;\n",
       "    }\n",
       "</style>\n",
       "<table border=\"1\" class=\"dataframe\">\n",
       "  <thead>\n",
       "    <tr style=\"text-align: right;\">\n",
       "      <th></th>\n",
       "      <th>Unnamed: 0</th>\n",
       "      <th>User_ID</th>\n",
       "      <th>Gender</th>\n",
       "      <th>Age</th>\n",
       "      <th>Height</th>\n",
       "      <th>Weight</th>\n",
       "      <th>Duration</th>\n",
       "      <th>Heart_Rate</th>\n",
       "      <th>Body_Temp</th>\n",
       "      <th>Calories</th>\n",
       "      <th>...</th>\n",
       "      <th>HeadCircumference</th>\n",
       "      <th>ShoulderWidth</th>\n",
       "      <th>ChestWidth</th>\n",
       "      <th>Belly</th>\n",
       "      <th>Waist</th>\n",
       "      <th>Hips</th>\n",
       "      <th>ArmLength</th>\n",
       "      <th>ShoulderToWaist</th>\n",
       "      <th>WaistToKnee</th>\n",
       "      <th>LegLength</th>\n",
       "    </tr>\n",
       "  </thead>\n",
       "  <tbody>\n",
       "    <tr>\n",
       "      <th>14990</th>\n",
       "      <td>14990</td>\n",
       "      <td>19715870</td>\n",
       "      <td>female</td>\n",
       "      <td>22</td>\n",
       "      <td>190.0</td>\n",
       "      <td>79.0</td>\n",
       "      <td>19.0</td>\n",
       "      <td>96.0</td>\n",
       "      <td>40.3</td>\n",
       "      <td>89.0</td>\n",
       "      <td>...</td>\n",
       "      <td>66.04</td>\n",
       "      <td>50.80</td>\n",
       "      <td>93.98</td>\n",
       "      <td>71.12</td>\n",
       "      <td>66.04</td>\n",
       "      <td>68.58</td>\n",
       "      <td>71.12</td>\n",
       "      <td>71.12</td>\n",
       "      <td>68.58</td>\n",
       "      <td>106.68</td>\n",
       "    </tr>\n",
       "    <tr>\n",
       "      <th>14991</th>\n",
       "      <td>14991</td>\n",
       "      <td>10050978</td>\n",
       "      <td>male</td>\n",
       "      <td>51</td>\n",
       "      <td>181.0</td>\n",
       "      <td>87.0</td>\n",
       "      <td>9.0</td>\n",
       "      <td>91.0</td>\n",
       "      <td>39.6</td>\n",
       "      <td>44.0</td>\n",
       "      <td>...</td>\n",
       "      <td>55.88</td>\n",
       "      <td>45.72</td>\n",
       "      <td>48.26</td>\n",
       "      <td>81.28</td>\n",
       "      <td>88.90</td>\n",
       "      <td>99.06</td>\n",
       "      <td>55.88</td>\n",
       "      <td>68.58</td>\n",
       "      <td>60.96</td>\n",
       "      <td>96.52</td>\n",
       "    </tr>\n",
       "    <tr>\n",
       "      <th>14992</th>\n",
       "      <td>14992</td>\n",
       "      <td>14722670</td>\n",
       "      <td>male</td>\n",
       "      <td>27</td>\n",
       "      <td>170.0</td>\n",
       "      <td>70.0</td>\n",
       "      <td>13.0</td>\n",
       "      <td>92.0</td>\n",
       "      <td>40.1</td>\n",
       "      <td>46.0</td>\n",
       "      <td>...</td>\n",
       "      <td>33.02</td>\n",
       "      <td>45.72</td>\n",
       "      <td>43.18</td>\n",
       "      <td>58.42</td>\n",
       "      <td>48.26</td>\n",
       "      <td>33.02</td>\n",
       "      <td>50.80</td>\n",
       "      <td>53.34</td>\n",
       "      <td>48.26</td>\n",
       "      <td>76.20</td>\n",
       "    </tr>\n",
       "    <tr>\n",
       "      <th>14993</th>\n",
       "      <td>14993</td>\n",
       "      <td>13584585</td>\n",
       "      <td>male</td>\n",
       "      <td>45</td>\n",
       "      <td>179.0</td>\n",
       "      <td>78.0</td>\n",
       "      <td>11.0</td>\n",
       "      <td>98.0</td>\n",
       "      <td>39.9</td>\n",
       "      <td>60.0</td>\n",
       "      <td>...</td>\n",
       "      <td>63.50</td>\n",
       "      <td>48.26</td>\n",
       "      <td>43.18</td>\n",
       "      <td>106.68</td>\n",
       "      <td>111.76</td>\n",
       "      <td>111.76</td>\n",
       "      <td>60.96</td>\n",
       "      <td>66.04</td>\n",
       "      <td>68.58</td>\n",
       "      <td>101.60</td>\n",
       "    </tr>\n",
       "    <tr>\n",
       "      <th>14994</th>\n",
       "      <td>14994</td>\n",
       "      <td>18209611</td>\n",
       "      <td>female</td>\n",
       "      <td>48</td>\n",
       "      <td>159.0</td>\n",
       "      <td>57.0</td>\n",
       "      <td>10.0</td>\n",
       "      <td>94.0</td>\n",
       "      <td>39.8</td>\n",
       "      <td>52.0</td>\n",
       "      <td>...</td>\n",
       "      <td>60.96</td>\n",
       "      <td>48.26</td>\n",
       "      <td>43.18</td>\n",
       "      <td>116.84</td>\n",
       "      <td>121.92</td>\n",
       "      <td>160.02</td>\n",
       "      <td>50.80</td>\n",
       "      <td>60.96</td>\n",
       "      <td>38.10</td>\n",
       "      <td>86.36</td>\n",
       "    </tr>\n",
       "    <tr>\n",
       "      <th>14995</th>\n",
       "      <td>14995</td>\n",
       "      <td>15644082</td>\n",
       "      <td>female</td>\n",
       "      <td>20</td>\n",
       "      <td>193.0</td>\n",
       "      <td>86.0</td>\n",
       "      <td>11.0</td>\n",
       "      <td>92.0</td>\n",
       "      <td>40.4</td>\n",
       "      <td>45.0</td>\n",
       "      <td>...</td>\n",
       "      <td>66.04</td>\n",
       "      <td>50.80</td>\n",
       "      <td>93.98</td>\n",
       "      <td>71.12</td>\n",
       "      <td>66.04</td>\n",
       "      <td>68.58</td>\n",
       "      <td>71.12</td>\n",
       "      <td>71.12</td>\n",
       "      <td>68.58</td>\n",
       "      <td>106.68</td>\n",
       "    </tr>\n",
       "    <tr>\n",
       "      <th>14996</th>\n",
       "      <td>14996</td>\n",
       "      <td>17212577</td>\n",
       "      <td>female</td>\n",
       "      <td>27</td>\n",
       "      <td>165.0</td>\n",
       "      <td>65.0</td>\n",
       "      <td>6.0</td>\n",
       "      <td>85.0</td>\n",
       "      <td>39.2</td>\n",
       "      <td>23.0</td>\n",
       "      <td>...</td>\n",
       "      <td>58.42</td>\n",
       "      <td>40.64</td>\n",
       "      <td>43.18</td>\n",
       "      <td>101.60</td>\n",
       "      <td>104.14</td>\n",
       "      <td>114.30</td>\n",
       "      <td>53.34</td>\n",
       "      <td>55.88</td>\n",
       "      <td>53.34</td>\n",
       "      <td>93.98</td>\n",
       "    </tr>\n",
       "    <tr>\n",
       "      <th>14997</th>\n",
       "      <td>14997</td>\n",
       "      <td>17271188</td>\n",
       "      <td>female</td>\n",
       "      <td>43</td>\n",
       "      <td>159.0</td>\n",
       "      <td>58.0</td>\n",
       "      <td>16.0</td>\n",
       "      <td>90.0</td>\n",
       "      <td>40.1</td>\n",
       "      <td>75.0</td>\n",
       "      <td>...</td>\n",
       "      <td>25.40</td>\n",
       "      <td>40.64</td>\n",
       "      <td>25.40</td>\n",
       "      <td>48.26</td>\n",
       "      <td>78.74</td>\n",
       "      <td>40.64</td>\n",
       "      <td>50.80</td>\n",
       "      <td>48.26</td>\n",
       "      <td>50.80</td>\n",
       "      <td>73.66</td>\n",
       "    </tr>\n",
       "    <tr>\n",
       "      <th>14998</th>\n",
       "      <td>14998</td>\n",
       "      <td>18643037</td>\n",
       "      <td>male</td>\n",
       "      <td>78</td>\n",
       "      <td>193.0</td>\n",
       "      <td>97.0</td>\n",
       "      <td>2.0</td>\n",
       "      <td>84.0</td>\n",
       "      <td>38.3</td>\n",
       "      <td>11.0</td>\n",
       "      <td>...</td>\n",
       "      <td>55.88</td>\n",
       "      <td>45.72</td>\n",
       "      <td>40.64</td>\n",
       "      <td>91.44</td>\n",
       "      <td>99.06</td>\n",
       "      <td>104.14</td>\n",
       "      <td>60.96</td>\n",
       "      <td>78.74</td>\n",
       "      <td>63.50</td>\n",
       "      <td>99.06</td>\n",
       "    </tr>\n",
       "    <tr>\n",
       "      <th>14999</th>\n",
       "      <td>14999</td>\n",
       "      <td>11751526</td>\n",
       "      <td>male</td>\n",
       "      <td>63</td>\n",
       "      <td>173.0</td>\n",
       "      <td>79.0</td>\n",
       "      <td>18.0</td>\n",
       "      <td>92.0</td>\n",
       "      <td>40.5</td>\n",
       "      <td>98.0</td>\n",
       "      <td>...</td>\n",
       "      <td>55.88</td>\n",
       "      <td>45.72</td>\n",
       "      <td>40.64</td>\n",
       "      <td>91.44</td>\n",
       "      <td>99.06</td>\n",
       "      <td>104.14</td>\n",
       "      <td>60.96</td>\n",
       "      <td>78.74</td>\n",
       "      <td>63.50</td>\n",
       "      <td>99.06</td>\n",
       "    </tr>\n",
       "  </tbody>\n",
       "</table>\n",
       "<p>10 rows × 21 columns</p>\n",
       "</div>"
      ],
      "text/plain": [
       "       Unnamed: 0   User_ID  Gender  Age  Height  Weight  Duration  \\\n",
       "14990       14990  19715870  female   22   190.0    79.0      19.0   \n",
       "14991       14991  10050978    male   51   181.0    87.0       9.0   \n",
       "14992       14992  14722670    male   27   170.0    70.0      13.0   \n",
       "14993       14993  13584585    male   45   179.0    78.0      11.0   \n",
       "14994       14994  18209611  female   48   159.0    57.0      10.0   \n",
       "14995       14995  15644082  female   20   193.0    86.0      11.0   \n",
       "14996       14996  17212577  female   27   165.0    65.0       6.0   \n",
       "14997       14997  17271188  female   43   159.0    58.0      16.0   \n",
       "14998       14998  18643037    male   78   193.0    97.0       2.0   \n",
       "14999       14999  11751526    male   63   173.0    79.0      18.0   \n",
       "\n",
       "       Heart_Rate  Body_Temp  Calories  ... HeadCircumference  ShoulderWidth  \\\n",
       "14990        96.0       40.3      89.0  ...             66.04          50.80   \n",
       "14991        91.0       39.6      44.0  ...             55.88          45.72   \n",
       "14992        92.0       40.1      46.0  ...             33.02          45.72   \n",
       "14993        98.0       39.9      60.0  ...             63.50          48.26   \n",
       "14994        94.0       39.8      52.0  ...             60.96          48.26   \n",
       "14995        92.0       40.4      45.0  ...             66.04          50.80   \n",
       "14996        85.0       39.2      23.0  ...             58.42          40.64   \n",
       "14997        90.0       40.1      75.0  ...             25.40          40.64   \n",
       "14998        84.0       38.3      11.0  ...             55.88          45.72   \n",
       "14999        92.0       40.5      98.0  ...             55.88          45.72   \n",
       "\n",
       "       ChestWidth   Belly   Waist    Hips  ArmLength  ShoulderToWaist  \\\n",
       "14990       93.98   71.12   66.04   68.58      71.12            71.12   \n",
       "14991       48.26   81.28   88.90   99.06      55.88            68.58   \n",
       "14992       43.18   58.42   48.26   33.02      50.80            53.34   \n",
       "14993       43.18  106.68  111.76  111.76      60.96            66.04   \n",
       "14994       43.18  116.84  121.92  160.02      50.80            60.96   \n",
       "14995       93.98   71.12   66.04   68.58      71.12            71.12   \n",
       "14996       43.18  101.60  104.14  114.30      53.34            55.88   \n",
       "14997       25.40   48.26   78.74   40.64      50.80            48.26   \n",
       "14998       40.64   91.44   99.06  104.14      60.96            78.74   \n",
       "14999       40.64   91.44   99.06  104.14      60.96            78.74   \n",
       "\n",
       "       WaistToKnee  LegLength  \n",
       "14990        68.58     106.68  \n",
       "14991        60.96      96.52  \n",
       "14992        48.26      76.20  \n",
       "14993        68.58     101.60  \n",
       "14994        38.10      86.36  \n",
       "14995        68.58     106.68  \n",
       "14996        53.34      93.98  \n",
       "14997        50.80      73.66  \n",
       "14998        63.50      99.06  \n",
       "14999        63.50      99.06  \n",
       "\n",
       "[10 rows x 21 columns]"
      ]
     },
     "execution_count": 7,
     "metadata": {},
     "output_type": "execute_result"
    }
   ],
   "source": [
    "fit.tail(10)\n"
   ]
  },
  {
   "cell_type": "code",
   "execution_count": 8,
   "id": "47493501-0206-4564-a30c-9967ebee7140",
   "metadata": {},
   "outputs": [
    {
     "data": {
      "text/plain": [
       "(15000, 21)"
      ]
     },
     "execution_count": 8,
     "metadata": {},
     "output_type": "execute_result"
    }
   ],
   "source": [
    "fit.shape"
   ]
  },
  {
   "cell_type": "code",
   "execution_count": 9,
   "id": "3d2b04fc-9629-4645-ad41-6550b2424ccc",
   "metadata": {},
   "outputs": [
    {
     "name": "stdout",
     "output_type": "stream",
     "text": [
      "['Unnamed: 0', 'User_ID', 'Gender', 'Age', 'Height', 'Weight', 'Duration', 'Heart_Rate', 'Body_Temp', 'Calories', 'Exercise_type_raw', 'HeadCircumference', 'ShoulderWidth', 'ChestWidth', 'Belly', 'Waist', 'Hips', 'ArmLength', 'ShoulderToWaist', 'WaistToKnee', 'LegLength']\n"
     ]
    }
   ],
   "source": [
    "fit_col=fit.columns.tolist()\n",
    "print(fit_col)"
   ]
  },
  {
   "cell_type": "code",
   "execution_count": 10,
   "id": "e22cf16a-6358-446c-b8ea-7f2feac93bca",
   "metadata": {},
   "outputs": [
    {
     "name": "stdout",
     "output_type": "stream",
     "text": [
      "<class 'pandas.core.frame.DataFrame'>\n",
      "RangeIndex: 15000 entries, 0 to 14999\n",
      "Data columns (total 21 columns):\n",
      " #   Column             Non-Null Count  Dtype  \n",
      "---  ------             --------------  -----  \n",
      " 0   Unnamed: 0         15000 non-null  int64  \n",
      " 1   User_ID            15000 non-null  int64  \n",
      " 2   Gender             15000 non-null  object \n",
      " 3   Age                15000 non-null  int64  \n",
      " 4   Height             15000 non-null  float64\n",
      " 5   Weight             15000 non-null  float64\n",
      " 6   Duration           15000 non-null  float64\n",
      " 7   Heart_Rate         15000 non-null  float64\n",
      " 8   Body_Temp          15000 non-null  float64\n",
      " 9   Calories           15000 non-null  float64\n",
      " 10  Exercise_type_raw  15000 non-null  object \n",
      " 11  HeadCircumference  15000 non-null  float64\n",
      " 12  ShoulderWidth      15000 non-null  float64\n",
      " 13  ChestWidth         15000 non-null  float64\n",
      " 14  Belly              15000 non-null  float64\n",
      " 15  Waist              15000 non-null  float64\n",
      " 16  Hips               15000 non-null  float64\n",
      " 17  ArmLength          15000 non-null  float64\n",
      " 18  ShoulderToWaist    15000 non-null  float64\n",
      " 19  WaistToKnee        15000 non-null  float64\n",
      " 20  LegLength          15000 non-null  float64\n",
      "dtypes: float64(16), int64(3), object(2)\n",
      "memory usage: 2.4+ MB\n"
     ]
    }
   ],
   "source": [
    "fit.info()"
   ]
  },
  {
   "cell_type": "code",
   "execution_count": 11,
   "id": "b34999c4-8583-4058-93d0-9304de9014c9",
   "metadata": {},
   "outputs": [
    {
     "name": "stdout",
     "output_type": "stream",
     "text": [
      "42.7898\n",
      "39.0\n",
      "74.96686666666666\n",
      "74.0\n"
     ]
    }
   ],
   "source": [
    "fit_age = fit[\"Age\"].mean()\n",
    "print(fit_age)\n",
    "fit_age = fit[\"Age\"].median()\n",
    "print(fit_age)\n",
    "fit_age = fit[\"Weight\"].mean()\n",
    "print(fit_age)\n",
    "fit_age = fit[\"Weight\"].median()\n",
    "print(fit_age)"
   ]
  },
  {
   "cell_type": "code",
   "execution_count": null,
   "id": "4901c5c8-6061-405f-bb3c-056c79fadd09",
   "metadata": {},
   "outputs": [],
   "source": []
  },
  {
   "cell_type": "code",
   "execution_count": 12,
   "id": "2f88bc73-c729-45eb-adcb-0a143c7a9121",
   "metadata": {},
   "outputs": [
    {
     "data": {
      "text/plain": [
       "array([[<Axes: title={'center': 'Age'}>]], dtype=object)"
      ]
     },
     "execution_count": 12,
     "metadata": {},
     "output_type": "execute_result"
    },
    {
     "data": {
      "image/png": "[encoded data removed]",
      "text/plain": [
       "<Figure size 640x480 with 1 Axes>"
      ]
     },
     "metadata": {},
     "output_type": "display_data"
    }
   ],
   "source": [
    "fit.hist(column='Age')"
   ]
  },
  {
   "cell_type": "code",
   "execution_count": 13,
   "id": "d54d6f62-6b2e-4f6c-bbeb-ec2c8f4adce9",
   "metadata": {},
   "outputs": [
    {
     "data": {
      "text/plain": [
       "array([[<Axes: title={'center': 'Duration'}>]], dtype=object)"
      ]
     },
     "execution_count": 13,
     "metadata": {},
     "output_type": "execute_result"
    },
    {
     "data": {
      "image/png": "[encoded data removed]",
      "text/plain": [
       "<Figure size 640x480 with 1 Axes>"
      ]
     },
     "metadata": {},
     "output_type": "display_data"
    }
   ],
   "source": [
    "fit.hist(column='Duration')"
   ]
  },
  {
   "cell_type": "markdown",
   "id": "4a6bd255-b3ee-4a70-9f85-bb6f20df2ce2",
   "metadata": {},
   "source": [
    "I want to figure out if there is a positive correlation between someones age and the duration of their work out. my hypothesis is that the older someone is the more they are likely to spend more time working out because they have more time.\n"
   ]
  },
  {
   "cell_type": "code",
   "execution_count": 14,
   "id": "113cda8e-1cd4-4b71-83e8-80a9543f8e44",
   "metadata": {},
   "outputs": [
    {
     "data": {
      "text/plain": [
       "<Axes: xlabel='Age_Groups', ylabel='Duration'>"
      ]
     },
     "execution_count": 14,
     "metadata": {},
     "output_type": "execute_result"
    },
    {
     "data": {
      "image/png": "[encoded data removed]",
      "text/plain": [
       "<Figure size 640x480 with 1 Axes>"
      ]
     },
     "metadata": {},
     "output_type": "display_data"
    }
   ],
   "source": [
    "bins = [0, 25, 35, 45, 55, 65, 100]\n",
    "labels = ['18–25', '26–35', '36–45', '46–55', '56–65', '66+']\n",
    "fit['Age_Groups']=pd.cut(fit['Age'],bins = bins, labels = labels)\n",
    "sns.boxplot(x='Age_Groups', y='Duration', data=fit)"
   ]
  },
  {
   "cell_type": "markdown",
   "id": "b25faae7-5d7e-4e51-8ae9-005cd264055c",
   "metadata": {},
   "source": [
    "My intial hypothesis that older people work out longer was wrong. From what the box plot shows is that the duration of workoput is consistent for most of people and that age really doesnt play a role in the duration a \n",
    "workout someone does. maybe other factors play a role such as excersie type and heart rate"
   ]
  },
  {
   "cell_type": "code",
   "execution_count": null,
   "id": "c707d1b2-948f-4062-8d85-280fabe8749b",
   "metadata": {},
   "outputs": [],
   "source": []
  },
  {
   "cell_type": "markdown",
   "id": "a10332df-e0a3-4ab5-91c7-53784407d036",
   "metadata": {},
   "source": [
    "my next hypothesis is that the longer someone works out the more likely they are to have a higher heart rate. \n"
   ]
  },
  {
   "cell_type": "code",
   "execution_count": 15,
   "id": "68e83fc8-1739-4105-8de3-b446db5a541e",
   "metadata": {},
   "outputs": [
    {
     "data": {
      "image/png": "[encoded data removed]",
      "text/plain": [
       "<Figure size 640x480 with 1 Axes>"
      ]
     },
     "metadata": {},
     "output_type": "display_data"
    }
   ],
   "source": [
    "fit.plot(x='Duration', y='Heart_Rate', kind='scatter')\n",
    "plt.title(\"Duration vs Heart Rate\")\n",
    "plt.xlabel(\"Duration (minutes)\")\n",
    "plt.ylabel(\"Heart Rate (BPM)\")\n",
    "plt.show()\n"
   ]
  },
  {
   "cell_type": "markdown",
   "id": "bd9c6c98-9d0c-4331-86fa-b67f02c011a5",
   "metadata": {},
   "source": [
    "The relationship appears to be gradual and consistent, indicating that heart rate increases steadily with time. While there's some variation at each duration level, the overall upward trend is strong and supports the idea that heart rate reflects workout effort over time.\n",
    "\n"
   ]
  },
  {
   "cell_type": "markdown",
   "id": "5ce1ae05-4953-4a63-8d80-b25bfcfe3326",
   "metadata": {},
   "source": [
    "My next hypothesis is that individuals with a higher body temperature tend to burn more calories.\n",
    "The reasoning is that increased body temperature is a sign of physical exertion, which typically corresponds to more energy being used — and therefore, more calories burned."
   ]
  },
  {
   "cell_type": "code",
   "execution_count": 16,
   "id": "b7cd8849-6e6a-4e5d-aa87-9ecbe7904c53",
   "metadata": {},
   "outputs": [
    {
     "data": {
      "image/png": "[encoded data removed]",
      "text/plain": [
       "<Figure size 640x480 with 1 Axes>"
      ]
     },
     "metadata": {},
     "output_type": "display_data"
    }
   ],
   "source": [
    "fit.plot(x='Body_Temp', y='Calories', kind='scatter')\n",
    "plt.title(\"Body_Temp vs Calories\")\n",
    "plt.xlabel(\"Body_Temp \")\n",
    "plt.ylabel(\"Calories\")\n",
    "plt.show()"
   ]
  },
  {
   "cell_type": "markdown",
   "id": "68c2a6ba-c36b-471e-991c-fd1f805e0816",
   "metadata": {},
   "source": [
    "This scatter plot supports my hypothesis that a higher body temperature correlates with more calories burned. \n",
    "The relationship appears to be positively curved as body temperature increases, calorie burn rises sharply, especially beyond 39C\n",
    "\n"
   ]
  },
  {
   "cell_type": "markdown",
   "id": "4f61487f-b11e-4944-be2e-761fc8fbebf9",
   "metadata": {},
   "source": [
    "Based off my intial hypothesis. I want to create a linear regression model that predicts the amount of calories someone has burnt based of the body temprature, duration and heart rate. I want to see which one of these 3 factors is the best predictor. i will be using RMSE because the smaller my value is the more closer the models prediction is to the actual value"
   ]
  },
  {
   "cell_type": "markdown",
   "id": "d6bb047f-5a93-4012-9b19-d53a62de5e6e",
   "metadata": {},
   "source": [
    "I would split the data 70 into a train set and 30 into a test set.\n",
    "\n",
    "In order to not use the same test set over and over and over again and hypertune my model to the test set only, I will split my training set 80 into a mini train set and 20 into a validation set.\n",
    "\n",
    "After doing this, I create my RMSE function which I can just use over and over and over again.\n",
    "\n",
    "For my mini train set, I will drop the calories column and then, using my heart rate and the in-built linear regression function, predict what the calories I will burn based off my heart rate.\n",
    "\n",
    "I will do the same for the mini validation set.\n",
    "\n",
    "Using both of these values, I will calculate the RMSE.\n",
    "\n",
    "Repeat now for duration from step 4 to step 6.\n",
    "\n",
    "Repeat now for body temp from step 4 to step 6."
   ]
  },
  {
   "cell_type": "code",
   "execution_count": 17,
   "id": "dfd513c3-6541-4925-8609-f1ec943ed421",
   "metadata": {},
   "outputs": [
    {
     "name": "stdout",
     "output_type": "stream",
     "text": [
      "10500\n",
      "   Unnamed: 0   User_ID  Age  Height  Weight  Duration  Heart_Rate  Body_Temp  \\\n",
      "0        4129  14837578   25   173.0    64.0      26.0       104.0       40.6   \n",
      "1        7115  14225054   24   157.0    57.0      27.0       100.0       40.7   \n",
      "2        1448  15404220   25   152.0    56.0       9.0        90.0       39.5   \n",
      "3        3275  19181116   21   155.0    50.0      13.0        98.0       40.2   \n",
      "4       13815  12935660   36   173.0    79.0      22.0       109.0       40.5   \n",
      "\n",
      "   Calories  HeadCircumference  ShoulderWidth  ChestWidth   Belly   Waist  \\\n",
      "0     151.0              55.88          35.56       27.94   35.56   25.40   \n",
      "1     147.0              55.88          45.72       40.64  114.30  119.38   \n",
      "2      40.0              55.88          43.18       43.18   30.48   33.02   \n",
      "3      69.0              55.88          45.72       48.26  109.22  114.30   \n",
      "4     148.0              60.96          50.80       45.72   91.44   96.52   \n",
      "\n",
      "     Hips  ArmLength  ShoulderToWaist  WaistToKnee  LegLength  \n",
      "0   48.26      38.10            48.26        53.34      78.74  \n",
      "1  157.48      48.26            53.34        43.18      83.82  \n",
      "2   71.12      45.72            48.26        43.18      68.58  \n",
      "3  149.86      48.26            50.80        40.64      83.82  \n",
      "4   93.98      58.42            50.80        58.42      99.06  \n"
     ]
    }
   ],
   "source": [
    "\n",
    "def train_test_split_custom(fit_cleaned):\n",
    "    data = fit_cleaned.copy()\n",
    "    size = len(fit_cleaned)\n",
    "    data = data.sample(frac=1).reset_index(drop=True)   \n",
    "    train = data.iloc[:int(.70 * size)]\n",
    "    test = data.iloc[int(.70*size):]\n",
    "   \n",
    "    \n",
    "    return train, test\n",
    "fit_cleaned = fit.drop(columns=[\"Gender\", \"Exercise_type_raw\",\"Age_Groups\"])\n",
    "#i dont need the gender column at all not planning on using it whatsoever so i can jsut drop it\n",
    "\n",
    "train, test = train_test_split_custom(fit_cleaned)\n",
    "\n",
    "print(len(train))\n",
    "print(train.head(5))"
   ]
  },
  {
   "cell_type": "code",
   "execution_count": 18,
   "id": "74a570ae-2fdf-4148-bcab-32fc1ca18144",
   "metadata": {},
   "outputs": [
    {
     "name": "stdout",
     "output_type": "stream",
     "text": [
      "8400\n",
      "   Unnamed: 0   User_ID  Age  Height  Weight  Duration  Heart_Rate  Body_Temp  \\\n",
      "0        4129  14837578   25   173.0    64.0      26.0       104.0       40.6   \n",
      "1        7115  14225054   24   157.0    57.0      27.0       100.0       40.7   \n",
      "2        1448  15404220   25   152.0    56.0       9.0        90.0       39.5   \n",
      "3        3275  19181116   21   155.0    50.0      13.0        98.0       40.2   \n",
      "4       13815  12935660   36   173.0    79.0      22.0       109.0       40.5   \n",
      "\n",
      "   Calories  HeadCircumference  ShoulderWidth  ChestWidth   Belly   Waist  \\\n",
      "0     151.0              55.88          35.56       27.94   35.56   25.40   \n",
      "1     147.0              55.88          45.72       40.64  114.30  119.38   \n",
      "2      40.0              55.88          43.18       43.18   30.48   33.02   \n",
      "3      69.0              55.88          45.72       48.26  109.22  114.30   \n",
      "4     148.0              60.96          50.80       45.72   91.44   96.52   \n",
      "\n",
      "     Hips  ArmLength  ShoulderToWaist  WaistToKnee  LegLength  \n",
      "0   48.26      38.10            48.26        53.34      78.74  \n",
      "1  157.48      48.26            53.34        43.18      83.82  \n",
      "2   71.12      45.72            48.26        43.18      68.58  \n",
      "3  149.86      48.26            50.80        40.64      83.82  \n",
      "4   93.98      58.42            50.80        58.42      99.06  \n"
     ]
    }
   ],
   "source": [
    "def training_set_custom(train):\n",
    "    data = train.copy()\n",
    "    size = len(train)\n",
    "    data = data.sample(frac=1).reset_index(drop=True)\n",
    "    mini_train = data.iloc[:int(.80 * size)]\n",
    "    mini_valid = data.iloc[int(.80*size):]\n",
    "    return mini_train, mini_valid\n",
    "mini_train, mini_valid = training_set_custom(train)\n",
    "print(len(mini_train))\n",
    "print(train.head(5))"
   ]
  },
  {
   "cell_type": "markdown",
   "id": "c7af1a0a-d236-4da8-a909-6797f0a44dfd",
   "metadata": {},
   "source": [
    "I did the split correctly, and I also shuffled the data because I'm not predicting anything in the future  so shuffling doesn't affect my predictions.\n",
    "\n"
   ]
  },
  {
   "cell_type": "code",
   "execution_count": 19,
   "id": "0b609fe9-0dc2-46c1-b296-2b69455f26b3",
   "metadata": {},
   "outputs": [],
   "source": [
    "def rmse(actual, predicted):\n",
    "    return np.sqrt(np.mean(actual - predicted)**2)\n"
   ]
  },
  {
   "cell_type": "code",
   "execution_count": 20,
   "id": "72e1354c-4d0a-4273-b683-0f359e7a8599",
   "metadata": {},
   "outputs": [
    {
     "name": "stdout",
     "output_type": "stream",
     "text": [
      "5.207939899437839e-14\n",
      "0.523146811423457\n"
     ]
    }
   ],
   "source": [
    "X_train =mini_train[[\"Heart_Rate\"]]\n",
    "y_train = mini_train[\"Calories\"]\n",
    "\n",
    "X_valid = mini_valid[[\"Heart_Rate\"]]\n",
    "y_valid = mini_valid[\"Calories\"]\n",
    "\n",
    "\n",
    "\n",
    "linear_model_m1 = lm.LinearRegression()\n",
    "linear_model_m1.fit(X_train,y_train)\n",
    "\n",
    "y_prediction_train_m1 = linear_model_m1.predict(X_train)\n",
    "y_prediction_valid_m1=linear_model_m1.predict(X_valid)\n",
    "\n",
    "training_error = np.zeros(4)\n",
    "validation_error = np.zeros(4)\n",
    "\n",
    "training_error[0]= rmse(y_train,y_prediction_train_m1)\n",
    "validation_error[0]= rmse(y_valid,y_prediction_valid_m1)\n",
    "print(training_error[0])\n",
    "print(validation_error[0])"
   ]
  },
  {
   "cell_type": "markdown",
   "id": "9a54041e-bca9-4187-b4d4-973495a07d2e",
   "metadata": {},
   "source": [
    "I’ll drop the Exercise (or Activity) column for now since I’m focused on predicting calories from numeric features. But later, I’ll bring it back to analyze which activities burn the most.\n",
    "Based on this data, Heart Rate appears to be a good predictor of calories burned — higher heart rates are generally associated with burning more calories.\n",
    "\n",
    "\n"
   ]
  },
  {
   "cell_type": "code",
   "execution_count": 21,
   "id": "2555c2b9-b3b8-4a1d-b466-fbd48ad5f594",
   "metadata": {},
   "outputs": [
    {
     "name": "stdout",
     "output_type": "stream",
     "text": [
      "1.2992781453898975e-15\n",
      "0.30647229576356233\n"
     ]
    }
   ],
   "source": [
    "X_train_2=mini_train[[\"Duration\"]]\n",
    "y_train_2 = mini_train[\"Calories\"]\n",
    "\n",
    "X_valid_2 = mini_valid[[\"Duration\"]]\n",
    "y_valid_2= mini_valid[\"Calories\"]\n",
    "\n",
    "linear_model_m2 = lm.LinearRegression()\n",
    "linear_model_m2.fit(X_train_2,y_train_2)\n",
    "\n",
    "y_prediction_train_m2 = linear_model_m2.predict(X_train_2)\n",
    "y_prediction_valid_m2=linear_model_m2.predict(X_valid_2)\n",
    "\n",
    "training_error[1]= rmse(y_train_2,y_prediction_train_m2)\n",
    "validation_error[1]= rmse(y_valid_2,y_prediction_valid_m2)\n",
    "print(training_error[1])\n",
    "print(validation_error[1])"
   ]
  },
  {
   "cell_type": "markdown",
   "id": "67150385-d4a7-4362-96ea-953e0dc073e9",
   "metadata": {},
   "source": [
    "Since Rmse of duration is lower than rmse for just heart rate, i am certain that working out longer yields to more calories being burnt. which make sense because the longer you are workng out the\n",
    "more you are working out"
   ]
  },
  {
   "cell_type": "code",
   "execution_count": 22,
   "id": "46ef89b9-d5bb-4420-bcfb-7d8a8278a506",
   "metadata": {},
   "outputs": [
    {
     "name": "stdout",
     "output_type": "stream",
     "text": [
      "1.255968873876901e-13\n",
      "1.3131253099939062\n"
     ]
    }
   ],
   "source": [
    "X_train_3=mini_train[[\"Body_Temp\"]]\n",
    "y_train_3 = mini_train[\"Calories\"]\n",
    "\n",
    "X_valid_3 = mini_valid[[\"Body_Temp\"]]\n",
    "y_valid_3= mini_valid[\"Calories\"]\n",
    "\n",
    "linear_model_m3 = lm.LinearRegression()\n",
    "linear_model_m3.fit(X_train_3,y_train_3)\n",
    "\n",
    "y_prediction_train_m3 = linear_model_m3.predict(X_train_3)\n",
    "y_prediction_valid_m3=linear_model_m3.predict(X_valid_3)\n",
    "\n",
    "training_error[2]= rmse(y_train_3,y_prediction_train_m3)\n",
    "validation_error[2]= rmse(y_valid_3,y_prediction_valid_m3)\n",
    "print(training_error[2])\n",
    "print(validation_error[2])"
   ]
  },
  {
   "cell_type": "markdown",
   "id": "5ce8720d-157e-4b8d-a280-540bc53066ed",
   "metadata": {},
   "source": [
    "These results suggest that the length of time a person works out (Duration) is more strongly correlated with calories burned than either their Heart Rate or Body Temperature.\n",
    "While all three features show some linear relationship with calories, Duration consistently leads to the most accurate calorie predictions in this model.\n",
    "\n"
   ]
  },
  {
   "cell_type": "markdown",
   "id": "d6b581dc-5ca8-45af-82a3-5a6182aca124",
   "metadata": {},
   "source": [
    "Build a multiple linear regression model that uses exercise type (and maybe other features like duration, heart rate, etc.) to predict calories burned, and figure out which exercise types burn the most.\n",
    "\n"
   ]
  },
  {
   "cell_type": "code",
   "execution_count": 31,
   "id": "bfad9e53-c70e-44e7-90a8-09120a58cc31",
   "metadata": {},
   "outputs": [
    {
     "name": "stdout",
     "output_type": "stream",
     "text": [
      "       Unnamed: 0   User_ID  Age  Height  Weight  Duration  Heart_Rate  \\\n",
      "0               0  14733363   68   190.0    94.0      29.0       105.0   \n",
      "1               1  14861698   20   166.0    60.0      14.0        94.0   \n",
      "2               2  11179863   69   179.0    79.0       5.0        88.0   \n",
      "3               3  16180408   34   179.0    71.0      13.0       100.0   \n",
      "4               4  17771927   27   154.0    58.0      10.0        81.0   \n",
      "...           ...       ...  ...     ...     ...       ...         ...   \n",
      "14995       14995  15644082   20   193.0    86.0      11.0        92.0   \n",
      "14996       14996  17212577   27   165.0    65.0       6.0        85.0   \n",
      "14997       14997  17271188   43   159.0    58.0      16.0        90.0   \n",
      "14998       14998  18643037   78   193.0    97.0       2.0        84.0   \n",
      "14999       14999  11751526   63   173.0    79.0      18.0        92.0   \n",
      "\n",
      "       Body_Temp  Calories  HeadCircumference  ...  \\\n",
      "0           40.8     231.0              55.88  ...   \n",
      "1           40.3      66.0              66.04  ...   \n",
      "2           38.7      26.0              55.88  ...   \n",
      "3           40.5      71.0              63.50  ...   \n",
      "4           39.8      35.0              55.88  ...   \n",
      "...          ...       ...                ...  ...   \n",
      "14995       40.4      45.0              66.04  ...   \n",
      "14996       39.2      23.0              58.42  ...   \n",
      "14997       40.1      75.0              25.40  ...   \n",
      "14998       38.3      11.0              55.88  ...   \n",
      "14999       40.5      98.0              55.88  ...   \n",
      "\n",
      "       Exercise_type_raw_Stationary cycling, very vigorous  \\\n",
      "0                                                    0.0     \n",
      "1                                                    0.0     \n",
      "2                                                    0.0     \n",
      "3                                                    0.0     \n",
      "4                                                    0.0     \n",
      "...                                                  ...     \n",
      "14995                                                0.0     \n",
      "14996                                                0.0     \n",
      "14997                                                0.0     \n",
      "14998                                                0.0     \n",
      "14999                                                0.0     \n",
      "\n",
      "       Exercise_type_raw_Stationary cycling, vigorous  \\\n",
      "0                                                 0.0   \n",
      "1                                                 0.0   \n",
      "2                                                 0.0   \n",
      "3                                                 0.0   \n",
      "4                                                 0.0   \n",
      "...                                               ...   \n",
      "14995                                             0.0   \n",
      "14996                                             0.0   \n",
      "14997                                             0.0   \n",
      "14998                                             0.0   \n",
      "14999                                             0.0   \n",
      "\n",
      "       Exercise_type_raw_Unicycling  \\\n",
      "0                               0.0   \n",
      "1                               0.0   \n",
      "2                               0.0   \n",
      "3                               1.0   \n",
      "4                               0.0   \n",
      "...                             ...   \n",
      "14995                           0.0   \n",
      "14996                           0.0   \n",
      "14997                           0.0   \n",
      "14998                           0.0   \n",
      "14999                           0.0   \n",
      "\n",
      "       Exercise_type_raw_Walking 3.0 mph, moderate  \\\n",
      "0                                              0.0   \n",
      "1                                              0.0   \n",
      "2                                              0.0   \n",
      "3                                              0.0   \n",
      "4                                              0.0   \n",
      "...                                            ...   \n",
      "14995                                          0.0   \n",
      "14996                                          0.0   \n",
      "14997                                          0.0   \n",
      "14998                                          0.0   \n",
      "14999                                          0.0   \n",
      "\n",
      "       Exercise_type_raw_Walking 3.5 mph, brisk pace  \\\n",
      "0                                                0.0   \n",
      "1                                                0.0   \n",
      "2                                                0.0   \n",
      "3                                                0.0   \n",
      "4                                                0.0   \n",
      "...                                              ...   \n",
      "14995                                            0.0   \n",
      "14996                                            0.0   \n",
      "14997                                            0.0   \n",
      "14998                                            0.0   \n",
      "14999                                            0.0   \n",
      "\n",
      "       Exercise_type_raw_Walking 4.5 mph  \\\n",
      "0                                    0.0   \n",
      "1                                    0.0   \n",
      "2                                    0.0   \n",
      "3                                    0.0   \n",
      "4                                    0.0   \n",
      "...                                  ...   \n",
      "14995                                0.0   \n",
      "14996                                0.0   \n",
      "14997                                1.0   \n",
      "14998                                0.0   \n",
      "14999                                0.0   \n",
      "\n",
      "       Exercise_type_raw_Walking, under 2.0 mph, very slow  \\\n",
      "0                                                    0.0     \n",
      "1                                                    0.0     \n",
      "2                                                    0.0     \n",
      "3                                                    0.0     \n",
      "4                                                    0.0     \n",
      "...                                                  ...     \n",
      "14995                                                0.0     \n",
      "14996                                                0.0     \n",
      "14997                                                0.0     \n",
      "14998                                                0.0     \n",
      "14999                                                0.0     \n",
      "\n",
      "       Exercise_type_raw_Watering lawn or garden  Gender_female Gender_male  \n",
      "0                                            0.0            0.0         1.0  \n",
      "1                                            0.0            1.0         0.0  \n",
      "2                                            1.0            0.0         1.0  \n",
      "3                                            0.0            1.0         0.0  \n",
      "4                                            0.0            1.0         0.0  \n",
      "...                                          ...            ...         ...  \n",
      "14995                                        0.0            1.0         0.0  \n",
      "14996                                        1.0            1.0         0.0  \n",
      "14997                                        0.0            1.0         0.0  \n",
      "14998                                        1.0            0.0         1.0  \n",
      "14999                                        0.0            0.0         1.0  \n",
      "\n",
      "[15000 rows x 55 columns]\n"
     ]
    }
   ],
   "source": [
    "\n",
    "print(fit)\n"
   ]
  },
  {
   "cell_type": "code",
   "execution_count": 32,
   "id": "8601be72-9535-4288-866e-9729b5f35cc7",
   "metadata": {},
   "outputs": [
    {
     "name": "stdout",
     "output_type": "stream",
     "text": [
      "['Unnamed: 0', 'User_ID', 'Age', 'Height', 'Weight', 'Duration', 'Heart_Rate', 'Body_Temp', 'Calories', 'HeadCircumference', 'ShoulderWidth', 'ChestWidth', 'Belly', 'Waist', 'Hips', 'ArmLength', 'ShoulderToWaist', 'WaistToKnee', 'LegLength', 'Age_Groups', 'Exercise_type_raw_Aerobics, general', 'Exercise_type_raw_Ballet, twist, jazz, tap', 'Exercise_type_raw_Calisthenics, light', 'Exercise_type_raw_Climbing hills, carrying 10 to 20 lb', 'Exercise_type_raw_Cross country skiing, uphill', 'Exercise_type_raw_Cycling, 10-11.9 mph, light', 'Exercise_type_raw_Cycling, 12-13.9 mph, moderate', 'Exercise_type_raw_Cycling, 14-15.9 mph, vigorous', 'Exercise_type_raw_Cycling, 16-19 mph, very fast, racing', 'Exercise_type_raw_Cycling, <10 mph, leisure bicycling', 'Exercise_type_raw_Cycling, >20 mph, racing', 'Exercise_type_raw_Cycling, mountain bike, bmx', 'Exercise_type_raw_Golf, walking and pulling clubs', 'Exercise_type_raw_Mild stretching', 'Exercise_type_raw_Running, 10.9 mph (5.5 min mile)', 'Exercise_type_raw_Running, 6.7 mph (9 min mile)', 'Exercise_type_raw_Running, 7 mph (8.5 min mile)', 'Exercise_type_raw_Running, 8 mph (7.5 min mile)', 'Exercise_type_raw_Running, 8.6 mph (7 min mile)', 'Exercise_type_raw_Running, 9 mph (6.5 min mile)', 'Exercise_type_raw_Stair machine', 'Exercise_type_raw_Standing, playing with children, light', 'Exercise_type_raw_Stationary cycling, light', 'Exercise_type_raw_Stationary cycling, moderate', 'Exercise_type_raw_Stationary cycling, very light', 'Exercise_type_raw_Stationary cycling, very vigorous', 'Exercise_type_raw_Stationary cycling, vigorous', 'Exercise_type_raw_Unicycling', 'Exercise_type_raw_Walking 3.0 mph, moderate', 'Exercise_type_raw_Walking 3.5 mph, brisk pace', 'Exercise_type_raw_Walking 4.5 mph', 'Exercise_type_raw_Walking, under 2.0 mph, very slow', 'Exercise_type_raw_Watering lawn or garden', 'Gender_female', 'Gender_male']\n"
     ]
    }
   ],
   "source": [
    "print(fit.columns.tolist())\n"
   ]
  },
  {
   "cell_type": "code",
   "execution_count": null,
   "id": "ac8cd32b-6b55-4e6b-9025-5d59ad174b07",
   "metadata": {},
   "outputs": [],
   "source": []
  },
  {
   "cell_type": "code",
   "execution_count": 40,
   "id": "1a50392b-7029-42f6-9a51-f83e37d6129a",
   "metadata": {},
   "outputs": [
    {
     "name": "stdout",
     "output_type": "stream",
     "text": [
      "Exercise\n",
      "Exercise_type_raw_Running, 10.9 mph (5.5 min mile)         204.474026\n",
      "Exercise_type_raw_Cycling, >20 mph, racing                 194.774436\n",
      "Exercise_type_raw_Cross country skiing, uphill             191.820000\n",
      "Exercise_type_raw_Running, 9 mph (6.5 min mile)            191.418699\n",
      "Exercise_type_raw_Running, 8.6 mph (7 min mile)            188.039683\n",
      "Exercise_type_raw_Stationary cycling, very vigorous        184.810496\n",
      "Exercise_type_raw_Running, 8 mph (7.5 min mile)            182.484746\n",
      "Exercise_type_raw_Cycling, 16-19 mph, very fast, racing    172.922509\n",
      "Exercise_type_raw_Running, 7 mph (8.5 min mile)            170.339806\n",
      "Exercise_type_raw_Running, 6.7 mph (9 min mile)            166.663636\n",
      "Name: Calories, dtype: float64\n"
     ]
    }
   ],
   "source": [
    "exercise_stats = exercise_long.groupby(\"Exercise\")[\"Calories\"].mean().sort_values(ascending=False)\n",
    "\n",
    "print(exercise_stats.head(10)) \n"
   ]
  },
  {
   "cell_type": "code",
   "execution_count": 38,
   "id": "0914e4e0-cdb1-4385-b4c3-44d62bb391c7",
   "metadata": {},
   "outputs": [
    {
     "data": {
      "image/png": "[encoded data removed]",
      "text/plain": [
       "<Figure size 1200x600 with 1 Axes>"
      ]
     },
     "metadata": {},
     "output_type": "display_data"
    }
   ],
   "source": [
    "plt.figure(figsize=(12,6))\n",
    "sns.barplot(x=exercise_stats.index[:10], y=exercise_stats.values[:10])\n",
    "plt.xticks(rotation=90)\n",
    "plt.title(\"Top 10 Exercises by Average Calories Burned\")\n",
    "plt.ylabel(\"Average Calories\")\n",
    "plt.xlabel(\"Exercise Type\")\n",
    "plt.show()\n"
   ]
  },
  {
   "cell_type": "code",
   "execution_count": 41,
   "id": "0d463f11-b8e9-472d-aa05-fa6c8b5be563",
   "metadata": {},
   "outputs": [
    {
     "name": "stdout",
     "output_type": "stream",
     "text": [
      "Exercise\n",
      "Exercise_type_raw_Cycling, 14-15.9 mph, vigorous       94160.0\n",
      "Exercise_type_raw_Stair machine                        87611.0\n",
      "Exercise_type_raw_Stationary cycling, very vigorous    63390.0\n",
      "Exercise_type_raw_Stationary cycling, vigorous         63256.0\n",
      "Exercise_type_raw_Cycling, 12-13.9 mph, moderate       58801.0\n",
      "Exercise_type_raw_Cycling, mountain bike, bmx          55071.0\n",
      "Exercise_type_raw_Running, 6.7 mph (9 min mile)        54999.0\n",
      "Exercise_type_raw_Stationary cycling, moderate         54064.0\n",
      "Exercise_type_raw_Running, 8 mph (7.5 min mile)        53833.0\n",
      "Exercise_type_raw_Running, 7 mph (8.5 min mile)        52635.0\n",
      "Name: Calories, dtype: float64\n"
     ]
    }
   ],
   "source": [
    "exercise_totals = exercise_long.groupby(\"Exercise\")[\"Calories\"].sum().sort_values(ascending=False)\n",
    "print(exercise_totals.head(10))\n"
   ]
  },
  {
   "cell_type": "code",
   "execution_count": 42,
   "id": "eb8bc08f-17a2-4766-9ecd-71686dcc6d1a",
   "metadata": {},
   "outputs": [
    {
     "data": {
      "text/plain": [
       "Gender_male\n",
       "0.0    88.153052\n",
       "1.0    90.945750\n",
       "Name: Calories, dtype: float64"
      ]
     },
     "execution_count": 42,
     "metadata": {},
     "output_type": "execute_result"
    }
   ],
   "source": [
    "fit.groupby([\"Gender_male\"])[\"Calories\"].mean()\n"
   ]
  },
  {
   "cell_type": "markdown",
   "id": "c1d1df4f-b276-4f4a-90d9-b42d482860ab",
   "metadata": {},
   "source": [
    "The analysis shows that exercise duration is the strongest predictor of calories burned, which aligns with existing research in exercise physiology. Among individual exercise types, running consistently burns the highest number of calories per session, reflecting its ability to elevate heart rate and maintain intensity over time. However, when looking at total calories burned across the dataset, activities such as cycling and the stair machine dominate, suggesting these exercises are both popular and effective. Overall, the findings support the literature that sustained, high-intensity activities that elevate heart rate for longer periods result in the greatest calorie expenditure."
   ]
  }
 ],
 "metadata": {
  "kernelspec": {
   "display_name": "Python 3 (ipykernel)",
   "language": "python",
   "name": "python3"
  },
  "language_info": {
   "codemirror_mode": {
    "name": "ipython",
    "version": 3
   },
   "file_extension": ".py",
   "mimetype": "text/x-python",
   "name": "python",
   "nbconvert_exporter": "python",
   "pygments_lexer": "ipython3",
   "version": "3.11.9"
  }
 },
 "nbformat": 4,
 "nbformat_minor": 5
}
